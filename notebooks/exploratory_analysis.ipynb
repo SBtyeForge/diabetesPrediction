{
 "cells": [
  {
   "cell_type": "markdown",
   "metadata": {},
   "source": [
    "# Exploratory Data Analysis (EDA) for Diabetes Prediction\n",
    "\n",
    "In this notebook, we will perform exploratory data analysis (EDA) on the diabetes dataset. The goal is to understand the dataset, identify patterns, and prepare the data for further analysis and model training.\n",
    "\n",
    "\n",
    "Let's start by importing the necessary libraries and loading the dataset.\n"
   ]
  },
  {
   "cell_type": "code",
   "execution_count": null,
   "metadata": {},
   "outputs": [],
   "source": [
    "import pandas as pd\n",
    "import numpy as np\n",
    "import matplotlib.pyplot as plt\n",
    "import seaborn as sns\n",
    "\n",
    "# Set visualisation style\n",
    "sns.set(style=\"whitegrid\")\n",
    "\n",
    "# Load the dataset\n",
    "file_path = '../data/raw/diabetes.csv'\n",
    "df = pd.read_csv(file_path)\n",
    "\n",
    "# Display the first few rows of the dataset\n",
    "df.head()"
   ]
  },
  {
   "cell_type": "code",
   "execution_count": null,
   "metadata": {},
   "outputs": [],
   "source": [
    "df['Pregnancies'].unique()"
   ]
  },
  {
   "cell_type": "code",
   "execution_count": null,
   "metadata": {},
   "outputs": [],
   "source": [
    "# Display basic information about the dataset\n",
    "df.info()\n",
    "\n"
   ]
  },
  {
   "cell_type": "code",
   "execution_count": null,
   "metadata": {},
   "outputs": [],
   "source": [
    "# Check for missing values\n",
    "df.isnull().sum()\n",
    "\n"
   ]
  },
  {
   "cell_type": "code",
   "execution_count": null,
   "metadata": {},
   "outputs": [],
   "source": [
    "# Summary statistics for numerical features\n",
    "df.describe()"
   ]
  },
  {
   "cell_type": "code",
   "execution_count": null,
   "metadata": {},
   "outputs": [],
   "source": [
    "# Plot histograms for each feature\n",
    "df.hist(figsize=(12, 10), bins=30, edgecolor='black')\n",
    "plt.suptitle('Distribution of Features')\n",
    "plt.show()"
   ]
  },
  {
   "cell_type": "code",
   "execution_count": null,
   "metadata": {},
   "outputs": [],
   "source": [
    "# Calculate the correlation matrix\n",
    "correlation_matrix = df.corr()\n",
    "\n",
    "# Plot heatmap of correlations\n",
    "plt.figure(figsize=(12, 10))\n",
    "sns.heatmap(correlation_matrix, annot=True, cmap='coolwarm', fmt='.2f', linewidths=0.5)\n",
    "plt.title('Correlation Matrix')\n",
    "plt.show()"
   ]
  },
  {
   "cell_type": "code",
   "execution_count": null,
   "metadata": {},
   "outputs": [],
   "source": [
    "# Plot pairplot for the dataset\n",
    "sns.pairplot(df, hue='Outcome', palette='husl')\n",
    "plt.title('Pairplot of Features')\n",
    "plt.show()"
   ]
  },
  {
   "cell_type": "code",
   "execution_count": null,
   "metadata": {},
   "outputs": [],
   "source": [
    "# Plot boxplots for features grouped by 'Outcome'\n",
    "plt.figure(figsize=(15, 10))\n",
    "for i, column in enumerate(df.columns[:-1]):\n",
    "    plt.subplot(4, 2, i+1)\n",
    "    sns.boxplot(x='Outcome', y=column, data=df, palette='husl')\n",
    "    plt.title(f'Boxplot of {column}')\n",
    "plt.tight_layout()\n",
    "plt.show()"
   ]
  },
  {
   "cell_type": "code",
   "execution_count": null,
   "metadata": {},
   "outputs": [],
   "source": []
  },
  {
   "cell_type": "markdown",
   "metadata": {},
   "source": [
    "- **Distribution of Features**: The histograms reveal the distribution of each feature. For instance, features like `Glucose` and `BMI` show a wide range of values, while others like `Pregnancies` have a more concentrated distribution.\n",
    "\n",
    "- **Correlation Analysis**: The correlation heatmap indicates that some features are highly correlated with each other. For example, `Glucose` and `Insulin` show a strong positive correlation. These relationships can inform feature selection and engineering.\n",
    "\n",
    "- **Feature Relationships**: The pairplot highlights how features interact with the target variable `Outcome`. Notably, features like `Glucose` and `BMI` show clear patterns that differentiate between diabetic and non-diabetic cases.\n",
    "\n",
    "- **Boxplots**: The boxplots illustrate how feature distributions vary with the target variable. Features such as `BloodPressure` and `SkinThickness` exhibit distinct distributions between diabetic and non-diabetic patients.\n",
    "\n",
    "## 7. Conclusion\n",
    "\n",
    "This exploratory analysis provides valuable insights into the dataset and guides the next steps in data preprocessing and model training.\n",
    "\n"
   ]
  }
 ],
 "metadata": {
  "kernelspec": {
   "display_name": "vdiabPredict",
   "language": "python",
   "name": "python3"
  },
  "language_info": {
   "codemirror_mode": {
    "name": "ipython",
    "version": 3
   },
   "file_extension": ".py",
   "mimetype": "text/x-python",
   "name": "python",
   "nbconvert_exporter": "python",
   "pygments_lexer": "ipython3",
   "version": "3.9.6"
  }
 },
 "nbformat": 4,
 "nbformat_minor": 2
}
